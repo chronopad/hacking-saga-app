{
 "cells": [
  {
   "cell_type": "code",
   "execution_count": 13,
   "id": "627e755d",
   "metadata": {
    "vscode": {
     "languageId": "python"
    }
   },
   "outputs": [
    {
     "name": "stdout",
     "output_type": "stream",
     "text": [
      "[x] Starting local process '/home/sage/sage/local/var/lib/sage/venv-python3.12.5/bin/python3'\n",
      "[+] Starting local process '/home/sage/sage/local/var/lib/sage/venv-python3.12.5/bin/python3': pid 426\n"
     ]
    },
    {
     "name": "stdout",
     "output_type": "stream",
     "text": [
      "[hnp] Lattice dimensions: (27, 27)\n",
      "[hnp] Lattice reduction took 0.051s\n",
      "x = 113968943347999331551472773340652091459321512007990293248765913978853811147489\n",
      "b\"Valid\\nb'chrono{63effc06a083538135d86293e8f9cc1b}'\\n\"\n"
     ]
    },
    {
     "name": "stderr",
     "output_type": "stream",
     "text": [
      "/tmp/ipykernel_244/3908340964.py:62: BytesWarning: Text is not bytes; assuming ASCII, no guarantees. See https://docs.pwntools.com/#bytes\n",
      "  io.sendlineafter(b\"Message: \", target.hex())\n"
     ]
    }
   ],
   "source": [
    "from pwn import *\n",
    "import sys, ecdsa, hashlib\n",
    "sys.path.append('/tmp/challenges/tentacool/lattice-based-cryptanalysis')\n",
    "\n",
    "from lbc_toolkit import hnp\n",
    "\n",
    "E = ecdsa.curves.SECP256k1\n",
    "g = E.generator * 246\n",
    "n = Integer(E.order)\n",
    "p = E.curve.p()\n",
    "\n",
    "def hex_pad(m):\n",
    "    m = hex(m)[2:]\n",
    "    if len(m) % 2 == 1:\n",
    "        m = m.zfill(len(m) + 1)\n",
    "    return m\n",
    "\n",
    "def sign_message(m):\n",
    "    io.sendlineafter(b\">> \", b\"2\")\n",
    "    io.sendlineafter(b\"Message: \", m.encode())\n",
    "    \n",
    "    io.recvuntil(b\"Signature: \")\n",
    "    e, s = [int(num) for num in io.recvline().decode()[1:-2].split(\", \")]\n",
    "\n",
    "    return e, s\n",
    "\n",
    "def local_sign(x, m: bytes):\n",
    "    k = ecdsa.rfc6979.generate_k(g.x(), x % g.x(), hashlib.sha512, m) * p % n\n",
    "    r = g * k\n",
    "    r = r.x()\n",
    "    e = int(hashlib.sha256(str(r).encode() + m).hexdigest(), 16)\n",
    "    s = (k + x * e) % n\n",
    "    return e, s\n",
    "\n",
    "# def construct_matrix(es, ss):\n",
    "#     M_size = len(es)\n",
    "#     M = identity_matrix(QQ, M_size)\n",
    "#     M = M.stack(vector([es[i]*pow(p,-1,n) for i in range(M_size)]))\n",
    "#     M = M.stack(vector([-ss[i]*pow(p,-1,n) for i in range(M_size)]))\n",
    "#     M = M.augment(identity_matrix(M_size + 2))\n",
    "    \n",
    "#     for i in range(M_size):\n",
    "#         row = [n if i == j else 0 for j in range(2*M_size + 2)]\n",
    "#         M = M.stack(vector(row)) \n",
    "#     return M\n",
    "\n",
    "io = process([\"python3\", \"/tmp/challenges/tentacool/chall.py\"])\n",
    "context.log_level = \"info\"\n",
    "\n",
    "es, ss = [], []\n",
    "for i in range(25):\n",
    "    e, s = sign_message(hex_pad(i+128))\n",
    "    es.append(-(e * pow(p, -1, n) % n))\n",
    "    ss.append(-(s * pow(p, -1, n) % n))\n",
    "\n",
    "x = hnp(n, es, ss, 2**245, verbose=True)\n",
    "print(\"x =\", x)\n",
    "\n",
    "target = b\"Tentacool approves of this message!\"\n",
    "e, s = local_sign(x, target)\n",
    "io.sendlineafter(b\">> \", b\"3\")\n",
    "io.sendlineafter(b\"Message: \", target.hex())\n",
    "io.sendlineafter(b\"e: \", hex_pad(e).encode())\n",
    "io.sendlineafter(b\"s: \", hex_pad(s).encode())\n",
    "\n",
    "print(io.recv())"
   ]
  }
 ],
 "metadata": {
  "kernelspec": {
   "display_name": "SageMath 10.6",
   "language": "sage",
   "name": "sagemath"
  },
  "language_info": {
   "codemirror_mode": {
    "name": "ipython",
    "version": 3
   },
   "file_extension": ".py",
   "mimetype": "text/x-python",
   "name": "sage",
   "nbconvert_exporter": "python",
   "pygments_lexer": "ipython3",
   "version": "3.12.5"
  }
 },
 "nbformat": 4,
 "nbformat_minor": 5
}
