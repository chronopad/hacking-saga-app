{
 "cells": [
  {
   "cell_type": "code",
   "execution_count": 90,
   "id": "e159438e",
   "metadata": {},
   "outputs": [
    {
     "name": "stdout",
     "output_type": "stream",
     "text": [
      "Flag: b'chrono{4b4c4fff4ef49437971f5f3f8d5ba190}'\n",
      "Flag: b'chrono{4b4c4fff4ef49437971f5f3f8d5ba190}'\n"
     ]
    }
   ],
   "source": [
    "from Crypto.Util.number import long_to_bytes\n",
    "import gmpy2\n",
    "\n",
    "res1 = 94805738763167286108589626857226009486489803893443720590549543623079686434962113664978299042787794735811246083899214232775396171366681633501146039428117624057026435481040262498309877978423605063431206264181913624787690105565224164086361886902967502983913567347654570195252846623968235576513858401594599463613080778836656711650076456247\n",
    "res2 = 58871256038814690610670485137940637743276580633469391847624770363716186152941369322412465322416317388825634448990790418704141816244530038024304170317794457147379954686707314418698916604536388251577728622760517452945357972897718738555414876\n",
    "\n",
    "# Intended solving method\n",
    "var(\"m1, m2\")\n",
    "f1 = 13 * m2 ** 2 + m1 * m2 + 5 * m1 ** 7 - res1 \n",
    "f2 = 7 * m2 ** 3 + m1 ** 5 - res2 \n",
    "f3 = f1.resultant(f2, m2)\n",
    "m1_res = Integer(f3.roots()[0][0])\n",
    "m2_res = Integer(f1(m1=m1_res).roots()[1][0])\n",
    "print(\"Flag:\", long_to_bytes(m1_res) + long_to_bytes(m2_res))\n",
    "\n",
    "# Unintended solving method\n",
    "m1_res = gmpy2.iroot(res1 // 5, 7)[0]\n",
    "m2_res = gmpy2.iroot((res2 - m1_res**5) // 7, 3)[0]\n",
    "print(\"Flag:\", long_to_bytes(m1_res) + long_to_bytes(m2_res))"
   ]
  }
 ],
 "metadata": {
  "kernelspec": {
   "display_name": "SageMath 10.6",
   "language": "sage",
   "name": "sagemath"
  },
  "language_info": {
   "codemirror_mode": {
    "name": "ipython",
    "version": 3
   },
   "file_extension": ".py",
   "mimetype": "text/x-python",
   "name": "python",
   "nbconvert_exporter": "python",
   "pygments_lexer": "ipython3",
   "version": "3.12.5"
  }
 },
 "nbformat": 4,
 "nbformat_minor": 5
}
